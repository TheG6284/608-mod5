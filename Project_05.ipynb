{
 "cells": [
  {
   "cell_type": "markdown",
   "id": "ddacb401-d112-409d-9c69-b01fb441f7a4",
   "metadata": {},
   "source": [
    "Project 05 Part 1      -Gavin A"
   ]
  },
  {
   "cell_type": "code",
   "execution_count": 5,
   "id": "bc0d1c45-fff7-4290-9816-d9738b51c4e0",
   "metadata": {},
   "outputs": [
    {
     "name": "stdout",
     "output_type": "stream",
     "text": [
      "87 3 93.66666666666667 87 100 6.506407098647712 count      3.000000\n",
      "mean      93.666667\n",
      "std        6.506407\n",
      "min       87.000000\n",
      "25%       90.500000\n",
      "50%       94.000000\n",
      "75%       97.000000\n",
      "max      100.000000\n",
      "dtype: float64\n"
     ]
    }
   ],
   "source": [
    "import pandas as pd\n",
    "\n",
    "grades = pd.Series([87, 100, 94])\n",
    "print(grades[0],                 \n",
    "    grades.count(),\n",
    "    grades.mean(),\n",
    "    grades.min(),\n",
    "    grades.max(),\n",
    "    grades.std(),\n",
    "    grades.describe())"
   ]
  },
  {
   "cell_type": "code",
   "execution_count": 8,
   "id": "0e3a86f6-8b04-4efa-ae6a-4fed2ffedeb7",
   "metadata": {},
   "outputs": [
    {
     "name": "stdout",
     "output_type": "stream",
     "text": [
      "100 \n",
      " 87 \n",
      " [ 87 100  94]\n"
     ]
    }
   ],
   "source": [
    "grades = pd.Series({'Wally': 87, 'Eva': 100, 'Sam': 94})\n",
    "print(grades['Eva'], '\\n', grades.Wally, '\\n',grades.values)\n"
   ]
  },
  {
   "cell_type": "markdown",
   "id": "252dbebb-73f1-4c6c-8961-84f635fe392d",
   "metadata": {},
   "source": [
    "Project 05 Part 2     -Gavin A"
   ]
  },
  {
   "cell_type": "code",
   "execution_count": 21,
   "id": "d7533b45-0d7d-45b9-a143-bc188722ccd4",
   "metadata": {},
   "outputs": [
    {
     "name": "stdout",
     "output_type": "stream",
     "text": [
      "Test1    100\n",
      "Test2     87\n",
      "Test3     90\n",
      "Name: Eva, dtype: int64 Test1    94\n",
      "Test2    77\n",
      "Test3    90\n",
      "Name: Sam, dtype: int64\n",
      "Wally     87\n",
      "Eva      100\n",
      "Sam       94\n",
      "Katie    100\n",
      "Bob       83\n",
      "Name: Test1, dtype: int64 Wally     87\n",
      "Eva      100\n",
      "Sam       94\n",
      "Katie    100\n",
      "Bob       83\n",
      "Name: Test1, dtype: int64 Wally    96\n",
      "Eva      87\n",
      "Sam      77\n",
      "Katie    81\n",
      "Bob      65\n",
      "Name: Test2, dtype: int64\n",
      "87 70\n",
      "       Wally     Eva    Sam   Katie    Bob\n",
      "count   3.00    3.00   3.00    3.00   3.00\n",
      "mean   84.33   92.33  87.00   87.67  77.67\n",
      "std    13.20    6.81   8.89   10.69  11.02\n",
      "min    70.00   87.00  77.00   81.00  65.00\n",
      "25%    78.50   88.50  83.50   81.50  74.00\n",
      "50%    87.00   90.00  90.00   82.00  83.00\n",
      "75%    91.50   95.00  92.00   91.00  84.00\n",
      "max    96.00  100.00  94.00  100.00  85.00\n",
      "Wally    84.33\n",
      "Eva      92.33\n",
      "Sam      87.00\n",
      "Katie    87.67\n",
      "Bob      77.67\n",
      "dtype: float64\n",
      "       Wally  Eva  Sam  Katie  Bob\n",
      "Test3     70   90   90     82   85\n",
      "Test2     96   87   77     81   65\n",
      "Test1     87  100   94    100   83\n"
     ]
    },
    {
     "data": {
      "text/html": [
       "<div>\n",
       "<style scoped>\n",
       "    .dataframe tbody tr th:only-of-type {\n",
       "        vertical-align: middle;\n",
       "    }\n",
       "\n",
       "    .dataframe tbody tr th {\n",
       "        vertical-align: top;\n",
       "    }\n",
       "\n",
       "    .dataframe thead th {\n",
       "        text-align: right;\n",
       "    }\n",
       "</style>\n",
       "<table border=\"1\" class=\"dataframe\">\n",
       "  <thead>\n",
       "    <tr style=\"text-align: right;\">\n",
       "      <th></th>\n",
       "      <th>Bob</th>\n",
       "      <th>Eva</th>\n",
       "      <th>Katie</th>\n",
       "      <th>Sam</th>\n",
       "      <th>Wally</th>\n",
       "    </tr>\n",
       "  </thead>\n",
       "  <tbody>\n",
       "    <tr>\n",
       "      <th>Test1</th>\n",
       "      <td>83</td>\n",
       "      <td>100</td>\n",
       "      <td>100</td>\n",
       "      <td>94</td>\n",
       "      <td>87</td>\n",
       "    </tr>\n",
       "    <tr>\n",
       "      <th>Test2</th>\n",
       "      <td>65</td>\n",
       "      <td>87</td>\n",
       "      <td>81</td>\n",
       "      <td>77</td>\n",
       "      <td>96</td>\n",
       "    </tr>\n",
       "    <tr>\n",
       "      <th>Test3</th>\n",
       "      <td>85</td>\n",
       "      <td>90</td>\n",
       "      <td>82</td>\n",
       "      <td>90</td>\n",
       "      <td>70</td>\n",
       "    </tr>\n",
       "  </tbody>\n",
       "</table>\n",
       "</div>"
      ],
      "text/plain": [
       "       Bob  Eva  Katie  Sam  Wally\n",
       "Test1   83  100    100   94     87\n",
       "Test2   65   87     81   77     96\n",
       "Test3   85   90     82   90     70"
      ]
     },
     "execution_count": 21,
     "metadata": {},
     "output_type": "execute_result"
    }
   ],
   "source": [
    "grades_dict = {'Wally': [87, 96, 70], 'Eva': [100, 87, 90], 'Sam': [94, 77, 90], 'Katie': [100, 81, 82], 'Bob': [83, 65, 85]}\n",
    "grades = pd.DataFrame(grades_dict)\n",
    "grades.index = ['Test1', 'Test2', 'Test3']\n",
    "\n",
    "print(grades['Eva'], grades.Sam)\n",
    "\n",
    "print(grades.loc['Test1'], grades.iloc[0], grades.iloc[1])\n",
    "#I prefer the loc method but i can see scenarios for using each\n",
    "\n",
    "print(grades.at['Test2', 'Eva'], grades.iat[2,0])\n",
    "\n",
    "print(grades.describe())\n",
    "\n",
    "pd.set_option('display.precision',2)\n",
    "\n",
    "print(grades.mean())\n",
    "print(grades.sort_index(ascending=False))\n",
    "grades.sort_index(axis=1)"
   ]
  },
  {
   "cell_type": "code",
   "execution_count": null,
   "id": "54d80afc-c176-4fc8-abfd-2830c5ff0e0b",
   "metadata": {},
   "outputs": [],
   "source": []
  }
 ],
 "metadata": {
  "kernelspec": {
   "display_name": "Python 3 (ipykernel)",
   "language": "python",
   "name": "python3"
  },
  "language_info": {
   "codemirror_mode": {
    "name": "ipython",
    "version": 3
   },
   "file_extension": ".py",
   "mimetype": "text/x-python",
   "name": "python",
   "nbconvert_exporter": "python",
   "pygments_lexer": "ipython3",
   "version": "3.9.12"
  }
 },
 "nbformat": 4,
 "nbformat_minor": 5
}
